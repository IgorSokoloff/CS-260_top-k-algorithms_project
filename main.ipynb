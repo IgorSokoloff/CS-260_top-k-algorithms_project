{
 "cells": [
  {
   "cell_type": "code",
   "execution_count": 1,
   "metadata": {},
   "outputs": [],
   "source": [
    "%matplotlib inline\n",
    "import numpy as np\n",
    "from sklearn.model_selection import train_test_split\n",
    "import time\n",
    "import sys\n",
    "import os\n",
    "import argparse\n",
    "from numpy.random import normal, uniform\n",
    "from numpy.linalg import norm\n",
    "import itertools\n",
    "import pandas as pd\n",
    "from matplotlib import pyplot as plt\n",
    "import math\n",
    "from sklearn.datasets import load_svmlight_file\n",
    "import datetime\n",
    "from IPython import display\n",
    "from tqdm import tqdm\n",
    "\n",
    "\n",
    "from contextlib import redirect_stdout\n",
    "import shutil\n",
    "import subprocess\n",
    "from knuth_tournament.tournament import *"
   ]
  },
  {
   "cell_type": "markdown",
   "metadata": {},
   "source": [
    "# Test drive for the algorithms"
   ]
  },
  {
   "cell_type": "markdown",
   "metadata": {},
   "source": [
    "## Knuth"
   ]
  },
  {
   "cell_type": "code",
   "execution_count": 6,
   "outputs": [],
   "source": [
    "def top_k_compressor(x, k):\n",
    "    output = np.zeros(x.shape)\n",
    "    x_abs = np.abs(x)\n",
    "    idx = np.argpartition(x_abs, -k)[-k:]  # Indices not sorted\n",
    "    inds = idx[np.argsort(x_abs[idx])][::-1]\n",
    "    output[inds] = x[inds]\n",
    "    return output"
   ],
   "metadata": {
    "collapsed": false,
    "pycharm": {
     "name": "#%%\n"
    }
   }
  },
  {
   "cell_type": "code",
   "execution_count": 9,
   "metadata": {},
   "outputs": [
    {
     "name": "stdout",
     "output_type": "stream",
     "text": [
      "Top 4 (knuth): [  0.  16.   0.  12. -14.   0. -17.   0.]\n",
      "Top 4 (my): [  0.  16.   0.  12. -14.   0. -17.   0.]\n",
      "Total number Of comparisons: 18\n",
      "True\n"
     ]
    }
   ],
   "source": [
    "input = [2, 16, 5, 12, -14, 8, -17, 10]\n",
    "tournament = TournamentTopK()\n",
    "\n",
    "k = 4\n",
    "topk_knuth, numberOfComparisons = tournament.getMaximumKSortedElements(input, k)\n",
    "topk_test = top_k_compressor (np.array(input), k)\n",
    "\n",
    "print(\"Top {} (knuth): {}\".format(k, topk_knuth))\n",
    "print(\"Top {} (my): {}\".format(k, topk_test))\n",
    "print(\"Total number Of comparisons:\", numberOfComparisons)\n",
    "print (np.allclose(topk_knuth, topk_test))"
   ]
  },
  {
   "cell_type": "code",
   "execution_count": 12,
   "metadata": {},
   "outputs": [],
   "source": [
    "topK, numberOfComparisons = tournament.getMaximumKSortedElements(input, k)"
   ]
  },
  {
   "cell_type": "markdown",
   "metadata": {},
   "source": [
    "# Experiments on known prior"
   ]
  },
  {
   "cell_type": "markdown",
   "metadata": {},
   "source": [
    "## Tournament method"
   ]
  },
  {
   "cell_type": "code",
   "execution_count": 13,
   "metadata": {},
   "outputs": [
    {
     "name": "stderr",
     "output_type": "stream",
     "text": [
      "100%|██████████| 100/100 [00:01<00:00, 73.16it/s]\n",
      "100%|██████████| 100/100 [01:42<00:00,  1.02s/it]\n",
      "  0%|          | 0/100 [00:02<?, ?it/s]\n"
     ]
    },
    {
     "ename": "KeyboardInterrupt",
     "evalue": "",
     "output_type": "error",
     "traceback": [
      "\u001B[0;31m---------------------------------------------------------------------------\u001B[0m",
      "\u001B[0;31mKeyboardInterrupt\u001B[0m                         Traceback (most recent call last)",
      "\u001B[0;32m<ipython-input-13-1fcfaad44209>\u001B[0m in \u001B[0;36m<module>\u001B[0;34m\u001B[0m\n\u001B[1;32m     51\u001B[0m     \u001B[0;32mfor\u001B[0m \u001B[0mi_s\u001B[0m \u001B[0;32min\u001B[0m \u001B[0mtqdm\u001B[0m\u001B[0;34m(\u001B[0m\u001B[0mrange\u001B[0m\u001B[0;34m(\u001B[0m\u001B[0mn_samples\u001B[0m\u001B[0;34m)\u001B[0m\u001B[0;34m)\u001B[0m\u001B[0;34m:\u001B[0m\u001B[0;34m\u001B[0m\u001B[0;34m\u001B[0m\u001B[0m\n\u001B[1;32m     52\u001B[0m         \u001B[0;32mfor\u001B[0m \u001B[0mi_k\u001B[0m \u001B[0;32min\u001B[0m \u001B[0mrange\u001B[0m\u001B[0;34m(\u001B[0m\u001B[0mk_ar\u001B[0m\u001B[0;34m.\u001B[0m\u001B[0mshape\u001B[0m\u001B[0;34m[\u001B[0m\u001B[0;36m0\u001B[0m\u001B[0;34m]\u001B[0m\u001B[0;34m)\u001B[0m\u001B[0;34m:\u001B[0m\u001B[0;34m\u001B[0m\u001B[0;34m\u001B[0m\u001B[0m\n\u001B[0;32m---> 53\u001B[0;31m             \u001B[0mtopk_knuth\u001B[0m\u001B[0;34m,\u001B[0m \u001B[0mnumberOfComparisons\u001B[0m \u001B[0;34m=\u001B[0m \u001B[0mtournament\u001B[0m\u001B[0;34m.\u001B[0m\u001B[0mgetMaximumKSortedElements\u001B[0m\u001B[0;34m(\u001B[0m\u001B[0mlist\u001B[0m\u001B[0;34m(\u001B[0m\u001B[0msample_matrix\u001B[0m\u001B[0;34m[\u001B[0m\u001B[0mi_s\u001B[0m\u001B[0;34m]\u001B[0m\u001B[0;34m)\u001B[0m\u001B[0;34m,\u001B[0m \u001B[0mk_ar\u001B[0m\u001B[0;34m[\u001B[0m\u001B[0mi_k\u001B[0m\u001B[0;34m]\u001B[0m\u001B[0;34m)\u001B[0m\u001B[0;34m\u001B[0m\u001B[0;34m\u001B[0m\u001B[0m\n\u001B[0m\u001B[1;32m     54\u001B[0m             \u001B[0mtopk_my\u001B[0m \u001B[0;34m=\u001B[0m \u001B[0mtop_k_compressor\u001B[0m \u001B[0;34m(\u001B[0m\u001B[0msample_matrix\u001B[0m\u001B[0;34m[\u001B[0m\u001B[0mi_s\u001B[0m\u001B[0;34m]\u001B[0m\u001B[0;34m,\u001B[0m \u001B[0mk_ar\u001B[0m\u001B[0;34m[\u001B[0m\u001B[0mi_k\u001B[0m\u001B[0;34m]\u001B[0m\u001B[0;34m)\u001B[0m\u001B[0;34m\u001B[0m\u001B[0;34m\u001B[0m\u001B[0m\n\u001B[1;32m     55\u001B[0m             \u001B[0mtc_matrix\u001B[0m \u001B[0;34m[\u001B[0m\u001B[0mi_s\u001B[0m\u001B[0;34m,\u001B[0m \u001B[0mi_k\u001B[0m\u001B[0;34m]\u001B[0m \u001B[0;34m=\u001B[0m \u001B[0mnumberOfComparisons\u001B[0m\u001B[0;34m\u001B[0m\u001B[0;34m\u001B[0m\u001B[0m\n",
      "\u001B[0;32m~/Google_Drive/KAUST/_FALL_2021/CS 260 Algorithms/Project/experiments/latest_version/knuth_tournament/tournament.py\u001B[0m in \u001B[0;36mgetMaximumKSortedElements\u001B[0;34m(self, inputArray, k)\u001B[0m\n\u001B[1;32m     54\u001B[0m     \u001B[0;32mdef\u001B[0m \u001B[0mgetMaximumKSortedElements\u001B[0m\u001B[0;34m(\u001B[0m\u001B[0mself\u001B[0m\u001B[0;34m,\u001B[0m \u001B[0minputArray\u001B[0m\u001B[0;34m,\u001B[0m \u001B[0mk\u001B[0m\u001B[0;34m)\u001B[0m\u001B[0;34m:\u001B[0m\u001B[0;34m\u001B[0m\u001B[0;34m\u001B[0m\u001B[0m\n\u001B[1;32m     55\u001B[0m         \u001B[0moutputArray\u001B[0m \u001B[0;34m=\u001B[0m \u001B[0mnp\u001B[0m\u001B[0;34m.\u001B[0m\u001B[0mzeros\u001B[0m\u001B[0;34m(\u001B[0m\u001B[0mlen\u001B[0m\u001B[0;34m(\u001B[0m\u001B[0minputArray\u001B[0m\u001B[0;34m)\u001B[0m\u001B[0;34m)\u001B[0m\u001B[0;34m\u001B[0m\u001B[0;34m\u001B[0m\u001B[0m\n\u001B[0;32m---> 56\u001B[0;31m         \u001B[0mtopKElements\u001B[0m\u001B[0;34m,\u001B[0m \u001B[0mnumberOfComparisons\u001B[0m \u001B[0;34m=\u001B[0m \u001B[0mself\u001B[0m\u001B[0;34m.\u001B[0m\u001B[0mfindKthMaximum\u001B[0m\u001B[0;34m(\u001B[0m\u001B[0minputArray\u001B[0m\u001B[0;34m,\u001B[0m \u001B[0mk\u001B[0m\u001B[0;34m)\u001B[0m\u001B[0;34m\u001B[0m\u001B[0;34m\u001B[0m\u001B[0m\n\u001B[0m\u001B[1;32m     57\u001B[0m         \u001B[0;32mfor\u001B[0m \u001B[0melement\u001B[0m\u001B[0;34m,\u001B[0m \u001B[0mindex\u001B[0m \u001B[0;32min\u001B[0m \u001B[0mtopKElements\u001B[0m\u001B[0;34m:\u001B[0m\u001B[0;34m\u001B[0m\u001B[0;34m\u001B[0m\u001B[0m\n\u001B[1;32m     58\u001B[0m             \u001B[0moutputArray\u001B[0m\u001B[0;34m[\u001B[0m\u001B[0mindex\u001B[0m\u001B[0;34m]\u001B[0m \u001B[0;34m=\u001B[0m \u001B[0melement\u001B[0m\u001B[0;34m\u001B[0m\u001B[0;34m\u001B[0m\u001B[0m\n",
      "\u001B[0;32m~/Google_Drive/KAUST/_FALL_2021/CS 260 Algorithms/Project/experiments/latest_version/knuth_tournament/tournament.py\u001B[0m in \u001B[0;36mfindKthMaximum\u001B[0;34m(self, inputArray, k)\u001B[0m\n\u001B[1;32m     92\u001B[0m         \u001B[0;32mfor\u001B[0m \u001B[0mi\u001B[0m \u001B[0;32min\u001B[0m \u001B[0mrange\u001B[0m\u001B[0;34m(\u001B[0m\u001B[0;36m1\u001B[0m\u001B[0;34m,\u001B[0m \u001B[0mk\u001B[0m\u001B[0;34m)\u001B[0m\u001B[0;34m:\u001B[0m\u001B[0;34m\u001B[0m\u001B[0;34m\u001B[0m\u001B[0m\n\u001B[1;32m     93\u001B[0m             \u001B[0;31m# fullAdjacencyList[i - 1] = self.getAdjacencyList(outputTree, root, level, rootIndex)\u001B[0m\u001B[0;34m\u001B[0m\u001B[0;34m\u001B[0m\u001B[0;34m\u001B[0m\u001B[0m\n\u001B[0;32m---> 94\u001B[0;31m             \u001B[0mfullAdjacencyList\u001B[0m\u001B[0;34m.\u001B[0m\u001B[0mappend\u001B[0m\u001B[0;34m(\u001B[0m\u001B[0mself\u001B[0m\u001B[0;34m.\u001B[0m\u001B[0mgetAdjacencyList\u001B[0m\u001B[0;34m(\u001B[0m\u001B[0moutputTree\u001B[0m\u001B[0;34m,\u001B[0m \u001B[0mroot\u001B[0m\u001B[0;34m,\u001B[0m \u001B[0mlevel\u001B[0m\u001B[0;34m,\u001B[0m \u001B[0mrootIndex\u001B[0m\u001B[0;34m)\u001B[0m\u001B[0;34m)\u001B[0m\u001B[0;34m\u001B[0m\u001B[0;34m\u001B[0m\u001B[0m\n\u001B[0m\u001B[1;32m     95\u001B[0m \u001B[0;34m\u001B[0m\u001B[0m\n\u001B[1;32m     96\u001B[0m             \u001B[0;31m# This is expected to take O(log(d)) comparisons\u001B[0m\u001B[0;34m\u001B[0m\u001B[0;34m\u001B[0m\u001B[0;34m\u001B[0m\u001B[0m\n",
      "\u001B[0;32m~/Google_Drive/KAUST/_FALL_2021/CS 260 Algorithms/Project/experiments/latest_version/knuth_tournament/tournament.py\u001B[0m in \u001B[0;36mgetAdjacencyList\u001B[0;34m(self, tree, rootElement, level, rootIndex)\u001B[0m\n\u001B[1;32m    262\u001B[0m \u001B[0;34m\u001B[0m\u001B[0m\n\u001B[1;32m    263\u001B[0m         \u001B[0;31m# we have to scan in reverse order\u001B[0m\u001B[0;34m\u001B[0m\u001B[0;34m\u001B[0m\u001B[0;34m\u001B[0m\u001B[0m\n\u001B[0;32m--> 264\u001B[0;31m         \u001B[0;32mfor\u001B[0m \u001B[0mi\u001B[0m \u001B[0;32min\u001B[0m \u001B[0mreversed\u001B[0m\u001B[0;34m(\u001B[0m\u001B[0mrange\u001B[0m\u001B[0;34m(\u001B[0m\u001B[0;36m1\u001B[0m\u001B[0;34m,\u001B[0m \u001B[0mlevel\u001B[0m\u001B[0;34m)\u001B[0m\u001B[0;34m)\u001B[0m\u001B[0;34m:\u001B[0m\u001B[0;34m\u001B[0m\u001B[0;34m\u001B[0m\u001B[0m\n\u001B[0m\u001B[1;32m    265\u001B[0m             \u001B[0;31m# one row above\u001B[0m\u001B[0;34m\u001B[0m\u001B[0;34m\u001B[0m\u001B[0;34m\u001B[0m\u001B[0m\n\u001B[1;32m    266\u001B[0m             \u001B[0mrowAbove\u001B[0m \u001B[0;34m=\u001B[0m \u001B[0mtree\u001B[0m\u001B[0;34m[\u001B[0m\u001B[0mi\u001B[0m \u001B[0;34m-\u001B[0m \u001B[0;36m1\u001B[0m\u001B[0;34m]\u001B[0m\u001B[0;34m\u001B[0m\u001B[0;34m\u001B[0m\u001B[0m\n",
      "\u001B[0;31mKeyboardInterrupt\u001B[0m: "
     ]
    }
   ],
   "source": [
    "project_path = os.getcwd() + \"/\"\n",
    "\n",
    "distribution = \"normal\"\n",
    "experiment_type = \"synthetic\"\n",
    "algorithm_name = \"tournament\"\n",
    "data_path = project_path + \"data_{0}/\".format(experiment_type)\n",
    "if not os.path.exists(data_path):\n",
    "    os.mkdir(data_path)\n",
    "\n",
    "#for real tests\n",
    "d_ar = np.array([10**3, 10**5, 10**7, 10**9], dtype=int)\n",
    "n_samples = 100_000\n",
    "\n",
    "#test values\n",
    "d_ar = np.array([10**2, 10**3, 10**4], dtype=int)\n",
    "#d_ar = np.array([10**2], dtype=int)\n",
    "n_samples = 100\n",
    "\n",
    "num_plot_points = 10\n",
    "\n",
    "tournament = TournamentTopK()\n",
    "experiment = '{0}_{1}'.format(experiment_type, algorithm_name, distribution)\n",
    "logs_path = project_path + \"logs/logs_{0}/\".format(experiment)\n",
    "\n",
    "# a folder to store precomputed sample matrices\n",
    "if not os.path.exists(data_path):\n",
    "    os.makedirs(data_path)\n",
    "\n",
    "#a global folder to store time complexity results\n",
    "if not os.path.exists(project_path + \"logs/\"):\n",
    "    os.makedirs(project_path + \"logs/\")\n",
    "    \n",
    "#a folder to store time complexity results of the experiments groupped by experiment_type, algorithm_name and distribution\n",
    "if not os.path.exists(logs_path):\n",
    "    os.makedirs(logs_path)\n",
    "\n",
    "for d in d_ar:\n",
    "    #for each d create sample matrices \n",
    "    sm_name = 'SM_prior-{0}_n-{1}_d-{2}.npy'.format(distribution, n_samples, d)\n",
    "    if not os.path.isfile(data_path + sm_name):\n",
    "        #TODO: make this generation reproducible fix some seed value\n",
    "        sample_matrix =  np.random.normal(loc=0.0, scale=1.0, size=(n_samples, d))\n",
    "        np.save(data_path + sm_name, sample_matrix)\n",
    "    else:\n",
    "        sample_matrix = np.load(data_path + sm_name)\n",
    "    \n",
    "    k_ar = np.linspace (max(int(0.01*d),1), d, num_plot_points, dtype=int)\n",
    "    tc_matrix = np.zeros((n_samples,k_ar.shape[0]))\n",
    "    tc_median = np.zeros(k_ar.shape[0])\n",
    "\n",
    "    for i_s in tqdm(range(n_samples)):\n",
    "        for i_k in range(k_ar.shape[0]):\n",
    "            topk_knuth, numberOfComparisons = tournament.getMaximumKSortedElements(list(sample_matrix[i_s]), k_ar[i_k])\n",
    "            topk_my = top_k_compressor (sample_matrix[i_s], k_ar[i_k])\n",
    "            tc_matrix [i_s, i_k] = numberOfComparisons\n",
    "            if not np.allclose(topk_knuth, topk_my):\n",
    "                print(\"Top {} (knuth): {}\".format(k_ar[i_k], topk_knuth))\n",
    "                print(\"Top {} (my): {}\".format(k_ar[i_k], topk_my))\n",
    "\n",
    "    tcm_name = 'TCM_prior-{0}_n-{1}_d-{2}.npy'.format(distribution, n_samples, d)\n",
    "    np.save(logs_path + tcm_name, tc_matrix)\n",
    "\n"
   ]
  },
  {
   "cell_type": "code",
   "execution_count": 4,
   "outputs": [
    {
     "data": {
      "text/plain": "'/Users/igorsokolov/Google_Drive/KAUST/_FALL_2021/CS 260 Algorithms/Project/experiments/latest version /logs/logs_synthetic_tournament/TCM_prior-normal_n-100_d-100.npy'"
     },
     "execution_count": 4,
     "metadata": {},
     "output_type": "execute_result"
    }
   ],
   "source": [
    "logs_path + tcm_name"
   ],
   "metadata": {
    "collapsed": false,
    "pycharm": {
     "name": "#%%\n"
    }
   }
  },
  {
   "cell_type": "code",
   "execution_count": 14,
   "metadata": {
    "collapsed": false,
    "jupyter": {
     "outputs_hidden": false
    },
    "pycharm": {
     "name": "#%%\n"
    }
   },
   "outputs": [],
   "source": [
    "#crashable input\n",
    "i_s = 0\n",
    "k = 9\n",
    "tenMinimum, numberOfComparisons = tournament.getMaximumKSortedElements(list(sample_matrix[i_s]), k)"
   ]
  },
  {
   "cell_type": "markdown",
   "metadata": {},
   "source": [
    "# Auxillary section"
   ]
  },
  {
   "cell_type": "code",
   "execution_count": null,
   "metadata": {},
   "outputs": [],
   "source": [
    "\n",
    "k_ar_slice = np.array([0.01*d, 0.1*d, 0.2*d, 0.5*d], dtype=int)\n"
   ]
  },
  {
   "cell_type": "markdown",
   "metadata": {},
   "source": [
    "## Histogramm axis correctess check"
   ]
  },
  {
   "cell_type": "code",
   "execution_count": null,
   "metadata": {},
   "outputs": [],
   "source": [
    "k_ar"
   ]
  },
  {
   "cell_type": "code",
   "execution_count": null,
   "metadata": {},
   "outputs": [],
   "source": [
    "d_ar = np.array([10**3, 10**5, 10**7, 10**9], dtype=int)\n",
    "n_samples = 100_000\n",
    "num_plot_points = 100\n",
    "\n",
    "for d in d_ar:\n",
    "    k_ar = np.linspace ( int(0.01*d), d, num_plot_points)\n",
    "    k_ar_slice = np.array([0.01*d, 0.1*d, 0.2*d, 0.5*d], dtype=int)\n",
    "    print (all(k_s in k_ar for k_s in k_ar_slice))"
   ]
  },
  {
   "cell_type": "code",
   "execution_count": null,
   "metadata": {},
   "outputs": [],
   "source": []
  }
 ],
 "metadata": {
  "kernelspec": {
   "display_name": "Python 3",
   "language": "python",
   "name": "python3"
  },
  "language_info": {
   "codemirror_mode": {
    "name": "ipython",
    "version": 3
   },
   "file_extension": ".py",
   "mimetype": "text/x-python",
   "name": "python",
   "nbconvert_exporter": "python",
   "pygments_lexer": "ipython3",
   "version": "3.8.8"
  }
 },
 "nbformat": 4,
 "nbformat_minor": 4
}