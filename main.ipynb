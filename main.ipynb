{
 "cells": [
  {
   "cell_type": "code",
   "execution_count": null,
   "metadata": {},
   "outputs": [],
   "source": [
    "%matplotlib inline\n",
    "import numpy as np\n",
    "from sklearn.model_selection import train_test_split\n",
    "import time\n",
    "import sys\n",
    "import os\n",
    "import argparse\n",
    "from numpy.random import normal, uniform\n",
    "from numpy.linalg import norm\n",
    "import itertools\n",
    "import pandas as pd\n",
    "from matplotlib import pyplot as plt\n",
    "import math\n",
    "from sklearn.datasets import load_svmlight_file\n",
    "import datetime\n",
    "from IPython import display\n",
    "from tqdm import tqdm\n",
    "from enum import Enum\n",
    "\n",
    "from contextlib import redirect_stdout\n",
    "import shutil\n",
    "import subprocess\n",
    "from knuth_tournament.tournament import *\n",
    "from quick_select.quickselect import *"
   ]
  },
  {
   "cell_type": "code",
   "execution_count": null,
   "metadata": {},
   "outputs": [],
   "source": [
    "class AlgorithmType(Enum):\n",
    "        TOURNAMENT = \"tournament\"\n",
    "        QUICKSELECT = \"quickselect\""
   ]
  },
  {
   "cell_type": "markdown",
   "metadata": {},
   "source": [
    "# Test drive for the algorithms"
   ]
  },
  {
   "cell_type": "markdown",
   "metadata": {},
   "source": [
    "## Tournament method"
   ]
  },
  {
   "cell_type": "code",
   "execution_count": null,
   "metadata": {
    "collapsed": false,
    "jupyter": {
     "outputs_hidden": false
    },
    "pycharm": {
     "name": "#%%\n"
    }
   },
   "outputs": [],
   "source": [
    "def top_k_compressor(x, k):\n",
    "    output = np.zeros(x.shape)\n",
    "    x_abs = np.abs(x)\n",
    "    idx = np.argpartition(x_abs, -k)[-k:]  # Indices not sorted\n",
    "    inds = idx[np.argsort(x_abs[idx])][::-1]\n",
    "    output[inds] = x[inds]\n",
    "    return output"
   ]
  },
  {
   "cell_type": "code",
   "execution_count": null,
   "metadata": {},
   "outputs": [],
   "source": [
    "input = [2, 16, 5, 12, -14, 8, -17, 10]\n",
    "tournament = TournamentTopK()\n",
    "\n",
    "k = 4\n",
    "topk_knuth, numberOfComparisons = tournament.getTopK(input, k)\n",
    "topk_test = top_k_compressor (np.array(input), k)\n",
    "\n",
    "print(\"Top {} (knuth): {}\".format(k, topk_knuth))\n",
    "print(\"Top {} (my): {}\".format(k, topk_test))\n",
    "print(\"Total number Of comparisons:\", numberOfComparisons)\n",
    "print (np.allclose(topk_knuth, topk_test))"
   ]
  },
  {
   "cell_type": "code",
   "execution_count": null,
   "metadata": {},
   "outputs": [],
   "source": [
    "topK, numberOfComparisons = tournament.getTopK(input, k)"
   ]
  },
  {
   "cell_type": "markdown",
   "metadata": {},
   "source": [
    "## Quickselect"
   ]
  },
  {
   "cell_type": "code",
   "execution_count": null,
   "metadata": {},
   "outputs": [],
   "source": [
    "myQuickselect = Quickselect()    \n",
    "arr = np.random.rand(100000)\n",
    "top, numberOfComparisons = myQuickselect.getTopK(arr, 5, pivotType=PivotType.RANDOM)\n",
    "print(\"Random Pivot:\\t\\t\", numberOfComparisons)\n",
    "\n",
    "top, numberOfComparisons = myQuickselect.getTopK(arr, 5, pivotType=PivotType.DETERMINISTIC)\n",
    "print(\"Deterministic Pivot:\\t\", numberOfComparisons)\n",
    "\n",
    "top, numberOfComparisons = myQuickselect.getTopK(arr, 5, pivotType=PivotType.MEDIAN)\n",
    "print(\"Median Pivot:\\t\\t\", numberOfComparisons)"
   ]
  },
  {
   "cell_type": "markdown",
   "metadata": {},
   "source": [
    "# Experiments on known prior"
   ]
  },
  {
   "cell_type": "code",
   "execution_count": null,
   "metadata": {},
   "outputs": [],
   "source": [
    "def run_test(algorithm_type, pivot_type=None):\n",
    "    project_path = os.getcwd() + \"/\"\n",
    "    \n",
    "    distribution = \"normal\"\n",
    "    experiment_type = \"synthetic\"\n",
    "    algorithm_name = algorithm_type.value\n",
    "    data_path = project_path + \"data_{0}/\".format(experiment_type)\n",
    "    if not os.path.exists(data_path):\n",
    "        os.mkdir(data_path)\n",
    "\n",
    "    #for real tests\n",
    "    d_ar = np.array([10**3, 10**5, 10**7, 10**9], dtype=int)\n",
    "    n_samples = 100_000\n",
    "\n",
    "    #test values\n",
    "    d_ar = np.array([10**2, 10**3, 10**4], dtype=int)\n",
    "    #d_ar = np.array([10**2], dtype=int)\n",
    "    n_samples = 100\n",
    "\n",
    "    num_plot_points = 10\n",
    "\n",
    "    if algorithm_type == AlgorithmType.TOURNAMENT:\n",
    "        algorithm = TournamentTopK()\n",
    "    else:\n",
    "        algorithm = Quickselect()\n",
    "        \n",
    "    print(\"Selected algorithm is:\", algorithm)\n",
    "\n",
    "    experiment = '{0}_{1}'.format(experiment_type, algorithm_name, distribution)\n",
    "    logs_path = project_path + \"logs/logs_{0}/\".format(experiment)\n",
    "\n",
    "    # a folder to store precomputed sample matrices\n",
    "    if not os.path.exists(data_path):\n",
    "        os.makedirs(data_path)\n",
    "\n",
    "    #a global folder to store time complexity results\n",
    "    if not os.path.exists(project_path + \"logs/\"):\n",
    "        os.makedirs(project_path + \"logs/\")\n",
    "\n",
    "    #a folder to store time complexity results of the experiments groupped by experiment_type, algorithm_name and distribution\n",
    "    if not os.path.exists(logs_path):\n",
    "        os.makedirs(logs_path)\n",
    "\n",
    "    for d in d_ar:\n",
    "        #for each d create sample matrices \n",
    "        sm_name = 'SM_prior-{0}_n-{1}_d-{2}.npy'.format(distribution, n_samples, d)\n",
    "        if not os.path.isfile(data_path + sm_name):\n",
    "            #TODO: make this generation reproducible fix some seed value\n",
    "            sample_matrix =  np.random.normal(loc=0.0, scale=1.0, size=(n_samples, d))\n",
    "            np.save(data_path + sm_name, sample_matrix)\n",
    "        else:\n",
    "            sample_matrix = np.load(data_path + sm_name)\n",
    "\n",
    "        k_ar = np.linspace (max(int(0.01*d),1), d, num_plot_points, dtype=int)\n",
    "        tc_matrix = np.zeros((n_samples,k_ar.shape[0]))\n",
    "        tc_median = np.zeros(k_ar.shape[0])\n",
    "\n",
    "        for i_s in tqdm(range(n_samples)):\n",
    "            for i_k in range(k_ar.shape[0]):\n",
    "                if algorithm_type == AlgorithmType.TOURNAMENT:\n",
    "                    topk_k, numberOfComparisons = algorithm.getTopK(list(sample_matrix[i_s]), k_ar[i_k])\n",
    "                else:\n",
    "                    topk_k, numberOfComparisons = algorithm.getTopK(list(sample_matrix[i_s]), k_ar[i_k], pivotType=pivot_type)\n",
    "                topk_my = top_k_compressor (sample_matrix[i_s], k_ar[i_k])\n",
    "                tc_matrix [i_s, i_k] = numberOfComparisons\n",
    "                if not np.allclose(topk_k, topk_my):\n",
    "                    print(\"Top {} (knuth): {}\".format(k_ar[i_k], topk_k))\n",
    "                    print(\"Top {} (my): {}\".format(k_ar[i_k], topk_my))\n",
    "\n",
    "        tcm_name = 'TCM_prior-{0}_n-{1}_d-{2}.npy'.format(distribution, n_samples, d)\n",
    "        np.save(logs_path + tcm_name, tc_matrix)\n",
    "        \n",
    "    return algorithm, sample_matrix\n"
   ]
  },
  {
   "cell_type": "markdown",
   "metadata": {},
   "source": [
    "## Tournament method"
   ]
  },
  {
   "cell_type": "code",
   "execution_count": null,
   "metadata": {},
   "outputs": [],
   "source": [
    "algorithm, sample_matrix = run_test(AlgorithmType.TOURNAMENT)"
   ]
  },
  {
   "cell_type": "code",
   "execution_count": null,
   "metadata": {
    "collapsed": false,
    "jupyter": {
     "outputs_hidden": false
    },
    "pycharm": {
     "name": "#%%\n"
    }
   },
   "outputs": [],
   "source": [
    "# logs_path + tcm_name"
   ]
  },
  {
   "cell_type": "code",
   "execution_count": null,
   "metadata": {
    "collapsed": false,
    "jupyter": {
     "outputs_hidden": false
    },
    "pycharm": {
     "name": "#%%\n"
    }
   },
   "outputs": [],
   "source": [
    "#crashable input\n",
    "i_s = 0\n",
    "k = 9\n",
    "tenMinimum, numberOfComparisons = algorithm.getTopK(list(sample_matrix[i_s]), k)"
   ]
  },
  {
   "cell_type": "markdown",
   "metadata": {},
   "source": [
    "## Quickselect method"
   ]
  },
  {
   "cell_type": "code",
   "execution_count": null,
   "metadata": {},
   "outputs": [],
   "source": [
    "algorithm, sample_matrix = run_test(AlgorithmType.QUICKSELECT, pivot_type=PivotType.RANDOM)\n",
    "# algorithm, sample_matrix = run_test(AlgorithmType.QUICKSELECT, pivot_type=PivotType.DETERMINISTIC)\n",
    "# algorithm, sample_matrix = run_test(AlgorithmType.QUICKSELECT, pivot_type=PivotType.MEDIAN)"
   ]
  },
  {
   "cell_type": "markdown",
   "metadata": {},
   "source": [
    "# Auxillary section"
   ]
  },
  {
   "cell_type": "code",
   "execution_count": null,
   "metadata": {},
   "outputs": [],
   "source": [
    "\n",
    "k_ar_slice = np.array([0.01*d, 0.1*d, 0.2*d, 0.5*d], dtype=int)\n"
   ]
  },
  {
   "cell_type": "markdown",
   "metadata": {},
   "source": [
    "## Histogramm axis correctess check"
   ]
  },
  {
   "cell_type": "code",
   "execution_count": null,
   "metadata": {},
   "outputs": [],
   "source": [
    "k_ar"
   ]
  },
  {
   "cell_type": "code",
   "execution_count": null,
   "metadata": {},
   "outputs": [],
   "source": [
    "d_ar = np.array([10**3, 10**5, 10**7, 10**9], dtype=int)\n",
    "n_samples = 100_000\n",
    "num_plot_points = 100\n",
    "\n",
    "for d in d_ar:\n",
    "    k_ar = np.linspace ( int(0.01*d), d, num_plot_points)\n",
    "    k_ar_slice = np.array([0.01*d, 0.1*d, 0.2*d, 0.5*d], dtype=int)\n",
    "    print (all(k_s in k_ar for k_s in k_ar_slice))"
   ]
  },
  {
   "cell_type": "code",
   "execution_count": null,
   "metadata": {},
   "outputs": [],
   "source": []
  }
 ],
 "metadata": {
  "kernelspec": {
   "display_name": "Python 3",
   "language": "python",
   "name": "python3"
  },
  "language_info": {
   "codemirror_mode": {
    "name": "ipython",
    "version": 3
   },
   "file_extension": ".py",
   "mimetype": "text/x-python",
   "name": "python",
   "nbconvert_exporter": "python",
   "pygments_lexer": "ipython3",
   "version": "3.8.8"
  }
 },
 "nbformat": 4,
 "nbformat_minor": 4
}
