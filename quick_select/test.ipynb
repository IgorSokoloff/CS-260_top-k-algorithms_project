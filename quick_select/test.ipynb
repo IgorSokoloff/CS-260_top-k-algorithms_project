{
 "cells": [
  {
   "cell_type": "code",
   "execution_count": 1,
   "metadata": {},
   "outputs": [],
   "source": [
    "import numpy as np\n",
    "import matplotlib.pyplot as plt\n",
    "from utilsl import topk, quickselect\n",
    "%load_ext autoreload\n",
    "%autoreload 2"
   ]
  },
  {
   "cell_type": "code",
   "execution_count": 2,
   "metadata": {},
   "outputs": [],
   "source": [
    "def top_k_compressor(x, k):\n",
    "    output = np.zeros(x.shape)\n",
    "    x_abs = np.abs(x)\n",
    "    idx = np.argpartition(x_abs, -k)[-k:]  # Indices not sorted\n",
    "    inds = idx[np.argsort(x_abs[idx])][::-1]\n",
    "    output[inds] = x[inds]\n",
    "    return output\n",
    "\n",
    "#np.random.seed(9)\n",
    "\n",
    "a = np.random.choice(1000,1000,replace=False)\n",
    "k = 10\n",
    "#a = np.array([1, 9, 5, 5, 63])\n",
    "top_ = top_k_compressor(a, k)\n",
    "top = topk(a, k, inplace=False)\n",
    "assert top.tolist() == top_.tolist()"
   ]
  },
  {
   "cell_type": "code",
   "execution_count": 100,
   "metadata": {},
   "outputs": [
    {
     "data": {
      "text/plain": [
       "array([0., 0., 0., 0., 0., 1., 1., 1., 1., 1.])"
      ]
     },
     "execution_count": 100,
     "metadata": {},
     "output_type": "execute_result"
    }
   ],
   "source": [
    "a = np.ones(10)\n",
    "k=5\n",
    "top = topk(a, k, inplace=False)\n",
    "top"
   ]
  },
  {
   "cell_type": "code",
   "execution_count": 57,
   "metadata": {},
   "outputs": [
    {
     "data": {
      "text/plain": [
       "0"
      ]
     },
     "execution_count": 57,
     "metadata": {},
     "output_type": "execute_result"
    }
   ],
   "source": [
    "a = np.random.choice(100,90,replace=False)\n",
    "k = 3\n",
    "a_ = a.copy()\n",
    "top = quickselect(a_,k,0,len(a)-1)\n",
    "np.sort(a)[k] - top"
   ]
  },
  {
   "cell_type": "code",
   "execution_count": 349,
   "metadata": {},
   "outputs": [
    {
     "data": {
      "text/plain": [
       "3"
      ]
     },
     "execution_count": 349,
     "metadata": {},
     "output_type": "execute_result"
    }
   ],
   "source": [
    "np.sort(a)[k]"
   ]
  },
  {
   "cell_type": "markdown",
   "metadata": {},
   "source": [
    "## Igor's test"
   ]
  },
  {
   "cell_type": "code",
   "execution_count": null,
   "metadata": {},
   "outputs": [],
   "source": [
    "def topk(arr, k, key=lambda x: x, inplace=True):\n",
    "    # key=lambda x: -key(x) we find top, so the order is reversed\n",
    "    n = len(arr)\n",
    "    if not inplace:\n",
    "        arr = arr.copy()\n",
    "    if k < 1 or k > n:\n",
    "        raise UserWarning('k Value is outside of 1...N')\n",
    "    kth = quickselect(arr, k-1, key=lambda x: -key(x))\n",
    "    equals = []\n",
    "    removed = 0\n",
    "    for i in range(len(arr)):\n",
    "        if arr[i] < kth:\n",
    "            removed += 1\n",
    "            arr[i] = 0\n",
    "        elif kth == arr[i]:\n",
    "            equals.append(i)\n",
    "    #stupid part\n",
    "    for i in equals:\n",
    "        if n - removed > k:\n",
    "            arr[i] = 0\n",
    "            removed += 1\n",
    "    if not inplace:\n",
    "        return arr\n",
    "    \n",
    "def top_k_compressor(x, k):\n",
    "    output = np.zeros(x.shape)\n",
    "    x_abs = np.abs(x)\n",
    "    idx = np.argpartition(x_abs, -k)[-k:]  # Indices not sorted\n",
    "    inds = idx[np.argsort(x_abs[idx])][::-1]\n",
    "    output[inds] = x[inds]\n",
    "    return output"
   ]
  },
  {
   "cell_type": "code",
   "execution_count": null,
   "metadata": {},
   "outputs": [],
   "source": [
    "a = np.random.randn(1_000_000_000)"
   ]
  },
  {
   "cell_type": "code",
   "execution_count": 6,
   "metadata": {},
   "outputs": [],
   "source": [
    "b = np.random.randn(1_000)"
   ]
  },
  {
   "cell_type": "code",
   "execution_count": 8,
   "metadata": {},
   "outputs": [],
   "source": [
    "k_a = int(a.shape[0]*0.01)\n",
    "k_b = int(b.shape[0]*0.01)"
   ]
  },
  {
   "cell_type": "code",
   "execution_count": 10,
   "metadata": {},
   "outputs": [
    {
     "name": "stdout",
     "output_type": "stream",
     "text": [
      "13.2 µs ± 114 ns per loop (mean ± std. dev. of 7 runs, 100000 loops each)\n"
     ]
    }
   ],
   "source": [
    "%%timeit\n",
    "\n",
    "top_k_compressor(b,k_b)\n"
   ]
  },
  {
   "cell_type": "code",
   "execution_count": 12,
   "metadata": {},
   "outputs": [
    {
     "name": "stdout",
     "output_type": "stream",
     "text": [
      "314 ms ± 46.6 ms per loop (mean ± std. dev. of 7 runs, 10 loops each)\n"
     ]
    }
   ],
   "source": [
    "%%timeit\n",
    "\n",
    "topk(b,k_b)\n"
   ]
  },
  {
   "cell_type": "code",
   "execution_count": 13,
   "metadata": {},
   "outputs": [
    {
     "name": "stdout",
     "output_type": "stream",
     "text": [
      "27.1 s ± 880 ms per loop (mean ± std. dev. of 7 runs, 1 loop each)\n"
     ]
    }
   ],
   "source": [
    "%%timeit\n",
    "\n",
    "top_k_compressor(a,k_a)\n"
   ]
  },
  {
   "cell_type": "code",
   "execution_count": 14,
   "metadata": {},
   "outputs": [
    {
     "name": "stdout",
     "output_type": "stream",
     "text": [
      "14.2 µs ± 74.3 ns per loop (mean ± std. dev. of 7 runs, 100000 loops each)\n"
     ]
    }
   ],
   "source": [
    "%%timeit\n",
    "\n",
    "topk(a,k_a)"
   ]
  },
  {
   "cell_type": "code",
   "execution_count": null,
   "metadata": {},
   "outputs": [],
   "source": []
  }
 ],
 "metadata": {
  "kernelspec": {
   "display_name": "Python 3",
   "language": "python",
   "name": "python3"
  },
  "language_info": {
   "codemirror_mode": {
    "name": "ipython",
    "version": 3
   },
   "file_extension": ".py",
   "mimetype": "text/x-python",
   "name": "python",
   "nbconvert_exporter": "python",
   "pygments_lexer": "ipython3",
   "version": "3.8.5"
  }
 },
 "nbformat": 4,
 "nbformat_minor": 4
}
